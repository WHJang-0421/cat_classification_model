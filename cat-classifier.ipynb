{
 "cells": [
  {
   "cell_type": "markdown",
   "metadata": {},
   "source": [
    "# Simple Cat Classifier\n",
    "\n",
    "### Please upload an image of a cat. The model will be able to distinguish between the following species (*does not work for other species*):\n",
    "- Abyssinian Cat\n",
    "- American Shorthair\n",
    "- Siamese Cat\n",
    "- Russian Blue\n",
    "- Persian Cat"
   ]
  },
  {
   "cell_type": "code",
   "execution_count": 1,
   "metadata": {},
   "outputs": [],
   "source": [
    "# required libraries\n",
    "from fastai.vision.widgets import *\n",
    "from fastai.vision.all import *\n",
    "# while it is normally a bad practice to use star imports,\n",
    "# the fastai library is designed to handle them (no namespace explosion)"
   ]
  },
  {
   "cell_type": "code",
   "execution_count": 2,
   "metadata": {},
   "outputs": [],
   "source": [
    "# load learner\n",
    "learn_inf = load_learner('catmodel.pkl')\n",
    "cat_names = learn_inf.dls.vocab"
   ]
  },
  {
   "cell_type": "code",
   "execution_count": 3,
   "metadata": {},
   "outputs": [],
   "source": [
    "# the widgets\n",
    "upload_btn = widgets.FileUpload()   # the upload button\n",
    "classify_btn = widgets.Button(description='Classify')   # the classify button\n",
    "output = widgets.Output()   # the image holder\n",
    "prediction_lbl = widgets.Label()    # the label containing the predictions"
   ]
  },
  {
   "cell_type": "code",
   "execution_count": 4,
   "metadata": {},
   "outputs": [],
   "source": [
    "# the functions regarding the widgets\n",
    "def main_prediction(change):\n",
    "    # get & display image\n",
    "    image = PILImage.create(upload_btn.data[-1])\n",
    "    output.clear_output()\n",
    "    with output:\n",
    "        display(image.to_thumb(128,128))\n",
    "    # predict\n",
    "    pred, pred_idx, probs = learn_inf.predict(image)\n",
    "    prediction_lbl.value = f\"This cat is a {pred}, by a probablity of {100 * probs[pred_idx]:.02f}%.\"\n",
    "    \n",
    "classify_btn.on_click(main_prediction)"
   ]
  },
  {
   "cell_type": "code",
   "execution_count": 6,
   "metadata": {},
   "outputs": [
    {
     "data": {
      "application/vnd.jupyter.widget-view+json": {
       "model_id": "48c3906fd31d46f484b7c659c2f3bb11",
       "version_major": 2,
       "version_minor": 0
      },
      "text/plain": [
       "VBox(children=(Label(value='Upload your cat!'), FileUpload(value={}, description='Upload'), Button(description…"
      ]
     },
     "metadata": {},
     "output_type": "display_data"
    }
   ],
   "source": [
    "# the GUI part\n",
    "VBox([\n",
    "    widgets.Label(\"Upload your cat!\"),\n",
    "    upload_btn,\n",
    "    classify_btn,\n",
    "    output,\n",
    "    prediction_lbl    \n",
    "])"
   ]
  }
 ],
 "metadata": {
  "kernelspec": {
   "display_name": "Python 3",
   "language": "python",
   "name": "python3"
  },
  "language_info": {
   "codemirror_mode": {
    "name": "ipython",
    "version": 3
   },
   "file_extension": ".py",
   "mimetype": "text/x-python",
   "name": "python",
   "nbconvert_exporter": "python",
   "pygments_lexer": "ipython3",
   "version": "3.8.6"
  },
  "widgets": {
   "application/vnd.jupyter.widget-state+json": {
    "state": {
     "00b5f04a6600421fab8205196e201b9e": {
      "model_module": "@jupyter-widgets/controls",
      "model_module_version": "1.5.0",
      "model_name": "LabelModel",
      "state": {
       "layout": "IPY_MODEL_14e4f2f16c604a4189c49d8f2a1a5ce3",
       "style": "IPY_MODEL_199cc3e81c9e404bb74772f5aaecea7d"
      }
     },
     "02b28a199585446cb5cb0f10d5d6c93b": {
      "model_module": "@jupyter-widgets/controls",
      "model_module_version": "1.5.0",
      "model_name": "LabelModel",
      "state": {
       "layout": "IPY_MODEL_89228cbed4f944bab9faabc6044ef6d1",
       "style": "IPY_MODEL_6b2ca3cb272c4cad87269df4f6f52e65",
       "value": "Upload your cat!"
      }
     },
     "0ff228ae72184539be3e58392a10fab8": {
      "model_module": "@jupyter-widgets/output",
      "model_module_version": "1.0.0",
      "model_name": "OutputModel",
      "state": {
       "layout": "IPY_MODEL_8047221cf0664887ba72e88805fc04b5"
      }
     },
     "14e4f2f16c604a4189c49d8f2a1a5ce3": {
      "model_module": "@jupyter-widgets/base",
      "model_module_version": "1.2.0",
      "model_name": "LayoutModel",
      "state": {}
     },
     "199cc3e81c9e404bb74772f5aaecea7d": {
      "model_module": "@jupyter-widgets/controls",
      "model_module_version": "1.5.0",
      "model_name": "DescriptionStyleModel",
      "state": {
       "description_width": ""
      }
     },
     "3986129f7a704380b8efb0b2443623fe": {
      "model_module": "@jupyter-widgets/base",
      "model_module_version": "1.2.0",
      "model_name": "LayoutModel",
      "state": {}
     },
     "4438663657794123b6f6bc1d4a77048c": {
      "model_module": "@jupyter-widgets/controls",
      "model_module_version": "1.5.0",
      "model_name": "ButtonStyleModel",
      "state": {}
     },
     "48c3906fd31d46f484b7c659c2f3bb11": {
      "model_module": "@jupyter-widgets/controls",
      "model_module_version": "1.5.0",
      "model_name": "VBoxModel",
      "state": {
       "children": [
        "IPY_MODEL_02b28a199585446cb5cb0f10d5d6c93b",
        "IPY_MODEL_811e4818f51347cda33204b545589140",
        "IPY_MODEL_95469fe6225848cca2367f7c700eb276",
        "IPY_MODEL_0ff228ae72184539be3e58392a10fab8",
        "IPY_MODEL_00b5f04a6600421fab8205196e201b9e"
       ],
       "layout": "IPY_MODEL_3986129f7a704380b8efb0b2443623fe"
      }
     },
     "4d7e34ae3c794a9eb5c51e1dfd36f00d": {
      "model_module": "@jupyter-widgets/base",
      "model_module_version": "1.2.0",
      "model_name": "LayoutModel",
      "state": {}
     },
     "4f03a2662188419c8a81207631199326": {
      "model_module": "@jupyter-widgets/base",
      "model_module_version": "1.2.0",
      "model_name": "LayoutModel",
      "state": {}
     },
     "6b2ca3cb272c4cad87269df4f6f52e65": {
      "model_module": "@jupyter-widgets/controls",
      "model_module_version": "1.5.0",
      "model_name": "DescriptionStyleModel",
      "state": {
       "description_width": ""
      }
     },
     "6fd18007530843daae2c40baf580057f": {
      "model_module": "@jupyter-widgets/base",
      "model_module_version": "1.2.0",
      "model_name": "LayoutModel",
      "state": {}
     },
     "8047221cf0664887ba72e88805fc04b5": {
      "model_module": "@jupyter-widgets/base",
      "model_module_version": "1.2.0",
      "model_name": "LayoutModel",
      "state": {}
     },
     "811e4818f51347cda33204b545589140": {
      "model_module": "@jupyter-widgets/controls",
      "model_module_version": "1.5.0",
      "model_name": "FileUploadModel",
      "state": {
       "description_tooltip": null,
       "layout": "IPY_MODEL_b7fc23cd916c4148ae8823395061c25f",
       "style": "IPY_MODEL_fcbba875f7fc444089c2b88108abcd2b"
      }
     },
     "89228cbed4f944bab9faabc6044ef6d1": {
      "model_module": "@jupyter-widgets/base",
      "model_module_version": "1.2.0",
      "model_name": "LayoutModel",
      "state": {}
     },
     "920290697748416f8501b257a8414f83": {
      "model_module": "@jupyter-widgets/controls",
      "model_module_version": "1.5.0",
      "model_name": "VBoxModel",
      "state": {
       "children": [
        "IPY_MODEL_fc4935ea444c4161a60b83f12bfd2f36",
        "IPY_MODEL_811e4818f51347cda33204b545589140",
        "IPY_MODEL_95469fe6225848cca2367f7c700eb276",
        "IPY_MODEL_0ff228ae72184539be3e58392a10fab8",
        "IPY_MODEL_00b5f04a6600421fab8205196e201b9e"
       ],
       "layout": "IPY_MODEL_4d7e34ae3c794a9eb5c51e1dfd36f00d"
      }
     },
     "95469fe6225848cca2367f7c700eb276": {
      "model_module": "@jupyter-widgets/controls",
      "model_module_version": "1.5.0",
      "model_name": "ButtonModel",
      "state": {
       "description": "Classify",
       "layout": "IPY_MODEL_6fd18007530843daae2c40baf580057f",
       "style": "IPY_MODEL_4438663657794123b6f6bc1d4a77048c"
      }
     },
     "a0c79e10517f4252b2e5ae7ba4098332": {
      "model_module": "@jupyter-widgets/controls",
      "model_module_version": "1.5.0",
      "model_name": "DescriptionStyleModel",
      "state": {
       "description_width": ""
      }
     },
     "b7fc23cd916c4148ae8823395061c25f": {
      "model_module": "@jupyter-widgets/base",
      "model_module_version": "1.2.0",
      "model_name": "LayoutModel",
      "state": {}
     },
     "fc4935ea444c4161a60b83f12bfd2f36": {
      "model_module": "@jupyter-widgets/controls",
      "model_module_version": "1.5.0",
      "model_name": "LabelModel",
      "state": {
       "layout": "IPY_MODEL_4f03a2662188419c8a81207631199326",
       "style": "IPY_MODEL_a0c79e10517f4252b2e5ae7ba4098332",
       "value": "Upload your cat!"
      }
     },
     "fcbba875f7fc444089c2b88108abcd2b": {
      "model_module": "@jupyter-widgets/controls",
      "model_module_version": "1.5.0",
      "model_name": "ButtonStyleModel",
      "state": {}
     }
    },
    "version_major": 2,
    "version_minor": 0
   }
  }
 },
 "nbformat": 4,
 "nbformat_minor": 4
}
